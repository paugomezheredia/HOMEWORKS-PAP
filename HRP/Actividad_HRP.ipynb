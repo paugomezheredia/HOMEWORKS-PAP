{
 "cells": [
  {
   "cell_type": "markdown",
   "id": "42489d3c-0591-4c09-aab9-71c0794acb83",
   "metadata": {},
   "source": [
    "<div style=\"background-color:#0f77ae; color:#ffffff; border: 1px solid #0f77ae; padding:5px; border-radius:5px;\">\n",
    "   <font color='#ffffff' size=6 face='Verdana'>Activity 2: HRP\n",
    "</font>\n",
    "</div>\n",
    "\n",
    "<font color='#76cee4' size=3 face='Tahoma'></font>\n",
    "\n",
    "<font color='#76cee4' size=3 face='Tahoma'>Paulina Gomez Heredia   |    Marian Sedano Paz</font>\n",
    "***"
   ]
  },
  {
   "cell_type": "markdown",
   "id": "fbcaaa8b-d657-444b-86ba-6fa0eb7a2fa1",
   "metadata": {},
   "source": [
    "<img style=\"float: left; margin: 30px 15px 15px 15px;\" src=\"https://oci02.img.iteso.mx/Identidades-De-Instancia/ITESO/Logos%20ITESO/Logo-ITESO-Principal.jpg\" width=\"400\" height=\"600\" /> \n",
    "    \n",
    "    \n",
    "## <font color='navy'> PAP Optimización de Programas de Inversión\n",
    "    \n",
    "### <font color='navy'> Actividad: Hierarchical Risk Parity\n",
    "\n",
    "Profesor: Sean Nicolás González Vázquez."
   ]
  },
  {
   "cell_type": "markdown",
   "id": "b21f399a",
   "metadata": {},
   "source": [
    "### **Objetivo**: Aplicar los conceptos de HRP vistos en clase, implementando el método para obtener los pesos de una cartera de inversión. "
   ]
  },
  {
   "cell_type": "markdown",
   "id": "617afb7e",
   "metadata": {},
   "source": [
    ">  **<font color='navy'>  Implementación de HRP Manual** (80 puntos)\n",
    "\n",
    "Aplicar los tres pasos del HRP:\n",
    "\n",
    "+ Hierarchical Clustering Tree\n",
    "\n",
    "+ Quasi-Diagonalization\n",
    "\n",
    "+ HRP Algorithm \n",
    "\n",
    "Y obtener las ponderaciones eficientes utilizando el algoritmo para el portafolio de inversión dado. \n",
    "\n",
    "A continuación se desglosa lo que se espera que se entrege en cada punto:\n",
    "\n",
    "+ **Hierarchical Clustering Tree**\n",
    "\n",
    "En este punto, se espera que se entregue el mapa de calor con las correlaciones de la cartera planteada, además, se aplicará clustering jerárquico sobre los rendimientos de esta, para encontrar el dendograma. \n",
    "\n",
    "+ **Quasi-Diagonalization**\n",
    "\n",
    "Con el Árbol Jerárquico obtenido en la parte anterior, se espera, haciendo uso de las hojas obtenidas, que se ordenen los rendimientos para obtener la matriz de correlación seriada matricialmente o quasi-diagonalizada. Graficar el mapa de calor de esta.\n",
    "\n",
    "+ **HRP Algorithm**\n",
    "\n",
    "Con los dos puntos anteriores y las formúlas vistas en clase, se espera que se complete la clase `HierarchicalRiskParity` dada en la siguiente sección, esta clase, recibirá solamente los rendimientos del portafolio sin quasi-diagonalizar (sin tener el orden de la parte anterior) y la lista con el orden de las hojas dadas por el clustering jerárquico. A posteriori, se completarán los métodos de la clase para que al aplicar el método `HRP` de la clase generada sobre un portafolio de acciones, se obtengan las ponderaciones eficientes. \n",
    "\n",
    "Después de obtener los pesos, se deberán de graficar en una gráfica de barras, se deben de observar los tickers en el eje x. \n",
    "\n",
    "\n",
    "**Ojo:** A continuación se muestra una estructura del código que debes utilizar, el método de HRP debe de ser implementado en clases de manera obligatoria. Tarea sin interpretación de resultados no la calificaré."
   ]
  },
  {
   "cell_type": "markdown",
   "id": "22ea3565-d336-49f4-a077-d3491340e9a3",
   "metadata": {},
   "source": [
    "***\n",
    "## <font color='#76cee4' size=5 face='Verdana'>Implementación de HRP Manual</font>\n"
   ]
  },
  {
   "cell_type": "code",
   "execution_count": 1,
   "id": "c843d4b9",
   "metadata": {},
   "outputs": [],
   "source": [
    "import numpy as np\n",
    "import pandas as pd\n",
    "import time\n",
    "\n",
    "import yfinance as yf\n",
    "from yahoofinancials import YahooFinancials\n",
    "\n",
    "\n",
    "import matplotlib.pyplot as plt\n",
    "import seaborn as sns\n",
    "\n",
    "from scipy.cluster.hierarchy import dendrogram, linkage, leaves_list"
   ]
  },
  {
   "cell_type": "code",
   "execution_count": 2,
   "id": "7515b5dd",
   "metadata": {},
   "outputs": [
    {
     "name": "stderr",
     "output_type": "stream",
     "text": [
      "[*********************100%***********************]  14 of 14 completed\n",
      "\n",
      "14 Failed downloads:\n",
      "['TIP', 'LQD', 'EWQ', 'IEF', 'XLU', 'TLT', 'XLE', 'XLB', 'SPY', 'XLK', 'EWJ', 'BND', 'DIA', 'XLF']: YFRateLimitError('Too Many Requests. Rate limited. Try after a while.')\n"
     ]
    }
   ],
   "source": [
    "# Lista de tickers\n",
    "tickers = ['IEF','BND','LQD','TIP','XLU','TLT','XLB','DIA','EWJ','SPY','XLK','XLE','EWQ','XLF']\n",
    "data = {}\n",
    "\n",
    "# descargar precios\n",
    "data = yf.download(\n",
    "    tickers=tickers, \n",
    "    period='1mo',\n",
    "    interval='1d')"
   ]
  },
  {
   "cell_type": "code",
   "execution_count": 3,
   "id": "73464eed",
   "metadata": {},
   "outputs": [
    {
     "data": {
      "text/html": [
       "<div>\n",
       "<style scoped>\n",
       "    .dataframe tbody tr th:only-of-type {\n",
       "        vertical-align: middle;\n",
       "    }\n",
       "\n",
       "    .dataframe tbody tr th {\n",
       "        vertical-align: top;\n",
       "    }\n",
       "\n",
       "    .dataframe thead tr th {\n",
       "        text-align: left;\n",
       "    }\n",
       "\n",
       "    .dataframe thead tr:last-of-type th {\n",
       "        text-align: right;\n",
       "    }\n",
       "</style>\n",
       "<table border=\"1\" class=\"dataframe\">\n",
       "  <thead>\n",
       "    <tr>\n",
       "      <th>Price</th>\n",
       "      <th colspan=\"10\" halign=\"left\">Adj Close</th>\n",
       "      <th>...</th>\n",
       "      <th colspan=\"10\" halign=\"left\">Volume</th>\n",
       "    </tr>\n",
       "    <tr>\n",
       "      <th>Ticker</th>\n",
       "      <th>BND</th>\n",
       "      <th>DIA</th>\n",
       "      <th>EWJ</th>\n",
       "      <th>EWQ</th>\n",
       "      <th>IEF</th>\n",
       "      <th>LQD</th>\n",
       "      <th>SPY</th>\n",
       "      <th>TIP</th>\n",
       "      <th>TLT</th>\n",
       "      <th>XLB</th>\n",
       "      <th>...</th>\n",
       "      <th>IEF</th>\n",
       "      <th>LQD</th>\n",
       "      <th>SPY</th>\n",
       "      <th>TIP</th>\n",
       "      <th>TLT</th>\n",
       "      <th>XLB</th>\n",
       "      <th>XLE</th>\n",
       "      <th>XLF</th>\n",
       "      <th>XLK</th>\n",
       "      <th>XLU</th>\n",
       "    </tr>\n",
       "    <tr>\n",
       "      <th>Date</th>\n",
       "      <th></th>\n",
       "      <th></th>\n",
       "      <th></th>\n",
       "      <th></th>\n",
       "      <th></th>\n",
       "      <th></th>\n",
       "      <th></th>\n",
       "      <th></th>\n",
       "      <th></th>\n",
       "      <th></th>\n",
       "      <th></th>\n",
       "      <th></th>\n",
       "      <th></th>\n",
       "      <th></th>\n",
       "      <th></th>\n",
       "      <th></th>\n",
       "      <th></th>\n",
       "      <th></th>\n",
       "      <th></th>\n",
       "      <th></th>\n",
       "      <th></th>\n",
       "    </tr>\n",
       "  </thead>\n",
       "  <tbody>\n",
       "  </tbody>\n",
       "</table>\n",
       "<p>0 rows × 84 columns</p>\n",
       "</div>"
      ],
      "text/plain": [
       "Empty DataFrame\n",
       "Columns: [(Adj Close, BND), (Adj Close, DIA), (Adj Close, EWJ), (Adj Close, EWQ), (Adj Close, IEF), (Adj Close, LQD), (Adj Close, SPY), (Adj Close, TIP), (Adj Close, TLT), (Adj Close, XLB), (Adj Close, XLE), (Adj Close, XLF), (Adj Close, XLK), (Adj Close, XLU), (Close, BND), (Close, DIA), (Close, EWJ), (Close, EWQ), (Close, IEF), (Close, LQD), (Close, SPY), (Close, TIP), (Close, TLT), (Close, XLB), (Close, XLE), (Close, XLF), (Close, XLK), (Close, XLU), (High, BND), (High, DIA), (High, EWJ), (High, EWQ), (High, IEF), (High, LQD), (High, SPY), (High, TIP), (High, TLT), (High, XLB), (High, XLE), (High, XLF), (High, XLK), (High, XLU), (Low, BND), (Low, DIA), (Low, EWJ), (Low, EWQ), (Low, IEF), (Low, LQD), (Low, SPY), (Low, TIP), (Low, TLT), (Low, XLB), (Low, XLE), (Low, XLF), (Low, XLK), (Low, XLU), (Open, BND), (Open, DIA), (Open, EWJ), (Open, EWQ), (Open, IEF), (Open, LQD), (Open, SPY), (Open, TIP), (Open, TLT), (Open, XLB), (Open, XLE), (Open, XLF), (Open, XLK), (Open, XLU), (Volume, BND), (Volume, DIA), (Volume, EWJ), (Volume, EWQ), (Volume, IEF), (Volume, LQD), (Volume, SPY), (Volume, TIP), (Volume, TLT), (Volume, XLB), (Volume, XLE), (Volume, XLF), (Volume, XLK), (Volume, XLU)]\n",
       "Index: []\n",
       "\n",
       "[0 rows x 84 columns]"
      ]
     },
     "execution_count": 3,
     "metadata": {},
     "output_type": "execute_result"
    }
   ],
   "source": [
    "data"
   ]
  },
  {
   "cell_type": "code",
   "execution_count": 4,
   "id": "394c91a9",
   "metadata": {},
   "outputs": [
    {
     "ename": "AttributeError",
     "evalue": "'DataFrame' object has no attribute 'adjclose'",
     "output_type": "error",
     "traceback": [
      "\u001b[1;31m---------------------------------------------------------------------------\u001b[0m",
      "\u001b[1;31mAttributeError\u001b[0m                            Traceback (most recent call last)",
      "\u001b[1;32m~\\AppData\\Local\\Temp\\ipykernel_4912\\3884123111.py\u001b[0m in \u001b[0;36m?\u001b[1;34m()\u001b[0m\n\u001b[0;32m      1\u001b[0m \u001b[1;31m# rendimientos\u001b[0m\u001b[1;33m\u001b[0m\u001b[1;33m\u001b[0m\u001b[0m\n\u001b[1;32m----> 2\u001b[1;33m \u001b[0mdata\u001b[0m\u001b[1;33m[\u001b[0m\u001b[1;34m\"r_pct\"\u001b[0m\u001b[1;33m]\u001b[0m\u001b[1;33m=\u001b[0m\u001b[0mdata\u001b[0m\u001b[1;33m.\u001b[0m\u001b[0madjclose\u001b[0m\u001b[1;33m.\u001b[0m\u001b[0mpct_change\u001b[0m\u001b[1;33m(\u001b[0m\u001b[1;33m)\u001b[0m\u001b[1;33m\u001b[0m\u001b[1;33m\u001b[0m\u001b[0m\n\u001b[0m\u001b[0;32m      3\u001b[0m \u001b[0mdata\u001b[0m\u001b[1;33m[\u001b[0m\u001b[1;34m\"r_log\"\u001b[0m\u001b[1;33m]\u001b[0m\u001b[1;33m=\u001b[0m\u001b[0mnp\u001b[0m\u001b[1;33m.\u001b[0m\u001b[0mlog\u001b[0m\u001b[1;33m(\u001b[0m\u001b[0mdata\u001b[0m\u001b[1;33m.\u001b[0m\u001b[0madjclose\u001b[0m\u001b[1;33m)\u001b[0m\u001b[1;33m-\u001b[0m\u001b[0mnp\u001b[0m\u001b[1;33m.\u001b[0m\u001b[0mlog\u001b[0m\u001b[1;33m(\u001b[0m\u001b[0mdata\u001b[0m\u001b[1;33m.\u001b[0m\u001b[0madjclose\u001b[0m\u001b[1;33m.\u001b[0m\u001b[0mshift\u001b[0m\u001b[1;33m(\u001b[0m\u001b[1;36m1\u001b[0m\u001b[1;33m)\u001b[0m\u001b[1;33m)\u001b[0m\u001b[1;33m\u001b[0m\u001b[1;33m\u001b[0m\u001b[0m\n",
      "\u001b[1;32mc:\\Users\\paugh\\anaconda3\\Lib\\site-packages\\pandas\\core\\generic.py\u001b[0m in \u001b[0;36m?\u001b[1;34m(self, name)\u001b[0m\n\u001b[0;32m   6295\u001b[0m             \u001b[1;32mand\u001b[0m \u001b[0mname\u001b[0m \u001b[1;32mnot\u001b[0m \u001b[1;32min\u001b[0m \u001b[0mself\u001b[0m\u001b[1;33m.\u001b[0m\u001b[0m_accessors\u001b[0m\u001b[1;33m\u001b[0m\u001b[1;33m\u001b[0m\u001b[0m\n\u001b[0;32m   6296\u001b[0m             \u001b[1;32mand\u001b[0m \u001b[0mself\u001b[0m\u001b[1;33m.\u001b[0m\u001b[0m_info_axis\u001b[0m\u001b[1;33m.\u001b[0m\u001b[0m_can_hold_identifiers_and_holds_name\u001b[0m\u001b[1;33m(\u001b[0m\u001b[0mname\u001b[0m\u001b[1;33m)\u001b[0m\u001b[1;33m\u001b[0m\u001b[1;33m\u001b[0m\u001b[0m\n\u001b[0;32m   6297\u001b[0m         \u001b[1;33m)\u001b[0m\u001b[1;33m:\u001b[0m\u001b[1;33m\u001b[0m\u001b[1;33m\u001b[0m\u001b[0m\n\u001b[0;32m   6298\u001b[0m             \u001b[1;32mreturn\u001b[0m \u001b[0mself\u001b[0m\u001b[1;33m[\u001b[0m\u001b[0mname\u001b[0m\u001b[1;33m]\u001b[0m\u001b[1;33m\u001b[0m\u001b[1;33m\u001b[0m\u001b[0m\n\u001b[1;32m-> 6299\u001b[1;33m         \u001b[1;32mreturn\u001b[0m \u001b[0mobject\u001b[0m\u001b[1;33m.\u001b[0m\u001b[0m__getattribute__\u001b[0m\u001b[1;33m(\u001b[0m\u001b[0mself\u001b[0m\u001b[1;33m,\u001b[0m \u001b[0mname\u001b[0m\u001b[1;33m)\u001b[0m\u001b[1;33m\u001b[0m\u001b[1;33m\u001b[0m\u001b[0m\n\u001b[0m",
      "\u001b[1;31mAttributeError\u001b[0m: 'DataFrame' object has no attribute 'adjclose'"
     ]
    }
   ],
   "source": [
    "# rendimientos\n",
    "data[\"r_pct\"]=data.adjclose.pct_change()\n",
    "data[\"r_log\"]=np.log(data.adjclose)-np.log(data.adjclose.shift(1))"
   ]
  },
  {
   "cell_type": "code",
   "execution_count": null,
   "id": "f7da59ca",
   "metadata": {},
   "outputs": [],
   "source": [
    "# mapa de calor de matriz correlacion"
   ]
  },
  {
   "cell_type": "code",
   "execution_count": null,
   "id": "77b7bff9",
   "metadata": {},
   "outputs": [],
   "source": [
    "# aplicar clustering jerarquico, dibujar dendograma"
   ]
  },
  {
   "cell_type": "code",
   "execution_count": null,
   "id": "4c3c4dbc",
   "metadata": {},
   "outputs": [],
   "source": [
    "# obtener lista con orden de hojas del dendograma"
   ]
  },
  {
   "cell_type": "code",
   "execution_count": null,
   "id": "9d45df8f",
   "metadata": {},
   "outputs": [],
   "source": [
    "# quasi-diagonalización de rendtos, plotear mapa de calor de correlaciones"
   ]
  },
  {
   "cell_type": "code",
   "execution_count": null,
   "id": "4279ed18",
   "metadata": {},
   "outputs": [],
   "source": [
    "# Aplicacion de Algoritmo HRP\n",
    "class HierarchicalRiskParity:\n",
    "    \n",
    "    def __init__(self, rends, quasi_index):\n",
    "        \n",
    "        self.names=rends.columns\n",
    "        self.cov=rends.cov() \n",
    "        self.names=rends.iloc[:, quasi_index].columns\n",
    "        self.indexes=quasi_index\n",
    "        \n",
    "    # metodo para obtener la variación de los clusters\n",
    "    def cluster_variation(self, items):\n",
    "        \n",
    "        # Obtener primero pesos temporales del cluster con funcion de cov inversa\n",
    "        \n",
    "        # Obtener varianza temporal del cluster\n",
    "        \n",
    "        return ... # retornar varianza del cluster\n",
    "    \n",
    "    \n",
    "    @staticmethod # biseccion recursiva\n",
    "    def bisection(items): \n",
    "        new_items = [i[int(j):int(k)] for i in items for j, k in\n",
    "                     ((0, len(i) / 2), (len(i) / 2, len(i))) if len(i) > 1]\n",
    "        return new_items \n",
    "    \n",
    "    # funcion para la obtencion de pesos por HRP\n",
    "    def HRP(self):\n",
    "        \n",
    "        # Inicializar pesos\n",
    "        \n",
    "        # Inicializar clusters con indices dados por cluster \n",
    "        \n",
    "        # Mientras sigamos teniendo clusters...\n",
    "        while len(clusters)>0:\n",
    "            # Aplicamos biseccion recursiva \n",
    "            clusters = self.bisection(clusters)\n",
    "            \n",
    "            # Para cada cluster de la biseccion recursiva spliteando en dos:\n",
    "            for i in range(0, len(clusters), 2):\n",
    "                \n",
    "                ...\n",
    "                \n",
    "                # Obtener indice i e i+1 de clusters\n",
    "                \n",
    "                # Calcular varianza de i e i+1 cluster, utilizar cluster_variation\n",
    "                \n",
    "                # Calcular alpha o factor de ajuste de los pesos\n",
    "                \n",
    "                # Ajustar pesos con alpha\n",
    "                \n",
    "                \n",
    "        return ... # retornar pesos\n",
    "        "
   ]
  },
  {
   "cell_type": "code",
   "execution_count": null,
   "id": "0e6a26ad",
   "metadata": {},
   "outputs": [],
   "source": [
    "# aplicar clase creada en nuestro portafolio"
   ]
  },
  {
   "cell_type": "code",
   "execution_count": null,
   "id": "a9fff3ae",
   "metadata": {},
   "outputs": [],
   "source": [
    "# graficar pesos"
   ]
  },
  {
   "cell_type": "markdown",
   "id": "f3c96caa",
   "metadata": {},
   "source": [
    "> **<font color='navy'> Implementación de HRP con PyPortopt** (20 puntos)\n",
    "    \n",
    "Instalar la librería `PyPortfolioOpt` de Python, una librería que ayuda a optimizar cuantitativamente portafolios de inversión. \n",
    "    \n",
    "Esta librería se puede instalar de la siguiente manera:\n",
    "    \n",
    "`pip install PyPortfolioOpt`\n",
    "    \n",
    "    \n",
    "Buscar en la documentación de la librería, el método `HRP_opt` que utiliza Hierarchical Risk Parity para obtener las ponderaciones eficientes de un portafolio de inversión.\n",
    "    \n",
    "Después de obtener las ponderaciones, graficarlas, notesé que los resultados obtenidos deben de dar lo mismo que los resultados obtenidos en la sección anterior, si no sucede esto, tu código es érroneo."
   ]
  },
  {
   "cell_type": "code",
   "execution_count": null,
   "id": "5c8269fc-929d-4d0f-b1b2-9f7636a14507",
   "metadata": {},
   "outputs": [],
   "source": []
  }
 ],
 "metadata": {
  "kernelspec": {
   "display_name": "base",
   "language": "python",
   "name": "python3"
  },
  "language_info": {
   "codemirror_mode": {
    "name": "ipython",
    "version": 3
   },
   "file_extension": ".py",
   "mimetype": "text/x-python",
   "name": "python",
   "nbconvert_exporter": "python",
   "pygments_lexer": "ipython3",
   "version": "3.12.7"
  }
 },
 "nbformat": 4,
 "nbformat_minor": 5
}
