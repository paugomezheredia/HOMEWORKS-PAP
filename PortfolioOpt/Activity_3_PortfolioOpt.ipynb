{
 "cells": [
  {
   "cell_type": "markdown",
   "id": "aba21796-dac8-417c-a136-a62ef82d00db",
   "metadata": {},
   "source": [
    "<div style=\"background-color:#B1D7CF; color:#ffffff; border: 1px solid #B1D7CF; padding:5px; border-radius:5px;\">\n",
    "   <font color='#ffffff' size=6 face='Verdana'>Activity 3: Portfolio Optimization\n",
    "</font>\n",
    "</div>\n",
    "\n",
    "<font color='#85A8AC' size=3 face='Tahoma'></font>\n",
    "\n",
    "<font color='#85A8AC' size=3 face='Tahoma'>Paulina Gomez Heredia   |    Marian Sedano Paz</font>\n",
    "***"
   ]
  },
  {
   "cell_type": "markdown",
   "id": "e8350201-7e70-4266-bab6-2c64ae83be0e",
   "metadata": {},
   "source": [
    "<img style=\"float: left; margin: 30px 15px 15px 15px;\" src=\"https://oci02.img.iteso.mx/Identidades-De-Instancia/ITESO/Logos%20ITESO/Logo-ITESO-Principal.jpg\" width=\"400\" height=\"600\" /> \n",
    "    \n",
    "    \n",
    "## <font color='navy'> Optimización de Programas de Inversión\n",
    "    \n",
    "### <font color='navy'> Tarea. Optimización Lagrangiana de Portafolios\n",
    "\n",
    "Profesor: Sean Nicolás González Vázquez\n",
    "    "
   ]
  },
  {
   "cell_type": "markdown",
   "id": "6af05fbb",
   "metadata": {},
   "source": [
    "### Objetivo: Aplicar lo aprendido en clase para calcular, optimizar y graficar los portafolios eficientes en Media Varianza para un Portafolio de Inversión dado."
   ]
  },
  {
   "cell_type": "markdown",
   "id": "72e20279-c541-4520-ae79-dcc0fd891362",
   "metadata": {},
   "source": [
    "## <font color='#85A8AC' size=5 face='Tahoma'>Step 1: Cálculo Manual</font>\n"
   ]
  },
  {
   "cell_type": "markdown",
   "id": "cf4e7aa2-5682-44a7-9162-ee358efffe64",
   "metadata": {},
   "source": [
    "<font size=4  face='Calibri Light'>Con el problema de optimización planteado para la frontera eficiente de portafolios en la última diapositiva de la presentación, **realiza la derivación analítica de la frontera**, utilizando el método de lagrange. Presenta tus resultados en formato latex.</font>\n",
    "\n",
    "<font size=4  face='Calibri Light'>*Hint:* Dado que tendrás dos restricciones de igualdad, es recomendable transformar el problema a su forma matricial, esto lo deberás de realizar después de derivar el lagrangiano e igualar las restricciones a cero. El resultado correcto es el siguiente.</font>\n",
    "\n",
    "$$w^*_{frontier} = \\Sigma^{-1} R [R^T \\Sigma^{-1} R]^{-1} P$$\n",
    "\n",
    "<font size=4  face='Calibri Light'>donde $R_{nx2}=\\begin{bmatrix} \\mu & \\overrightarrow{1}\\end{bmatrix}$ y $P_{2x1}=\\begin{bmatrix} \\mu_p \\\\ 1 \\end{bmatrix}$ y $\\Sigma^{-1}_{nxn}$ es la inversa de la matriz cuadrada de varianza-covarianza</font>\n",
    "\n",
    "$\\hspace{0.5cm}$"
   ]
  },
  {
   "attachments": {},
   "cell_type": "markdown",
   "id": "89b3fdac-a5e8-432e-963e-4c94d4249a42",
   "metadata": {},
   "source": [
    "<font size=3  face='Calibri Light'>Dada la función objetivo:</font>\n",
    "\n",
    "$$min _w \\sigma_p^2\\ =w^T \\Sigma w$$\n",
    "\n",
    "<font size=3  face='Calibri Light'>y las restricciones:</font>\n",
    "\n",
    "$$w^T \\mathbf{1}=1$$\n",
    "\n",
    "$$w^T \\mu=\\mu_p$$\n",
    "\n",
    "<font size=3  face='Calibri Light'>Donde:</font>\n",
    "\n",
    "- $w$ : vector de pesos\n",
    "- $μ$ : vector de retornos \n",
    "  "
   ]
  },
  {
   "cell_type": "markdown",
   "id": "ee5521f0-3e8d-446b-a182-cdda5e3da978",
   "metadata": {},
   "source": [
    "### <font size=4  face='Calibri Light'>**Método de Lagrange**</font>\n",
    "\n",
    "$$w^*=\\Sigma^{-1} R\\left[R^T \\Sigma^{-1} R\\right]^{-1} P$$\n",
    "\n"
   ]
  },
  {
   "cell_type": "markdown",
   "id": "ff87cad9-e928-4f0e-ac81-28bfe23599e4",
   "metadata": {},
   "source": [
    "$$L=f(x)+\\lambda(restriccion)$$\n",
    "\n",
    "$$L\\left(w, \\lambda_1, \\lambda_2\\right)=w^T \\Sigma w+\\lambda_1\\left(1-w^T \\mathbf{1}\\right)+\\lambda_2\\left(\\mu_p-w^T \\mu\\right)$$"
   ]
  },
  {
   "cell_type": "markdown",
   "id": "951ae725-b62f-4919-9064-710f04fc95a9",
   "metadata": {},
   "source": [
    "$$\\begin{gathered}\\frac{\\partial L}{\\partial w}=2 \\Sigma w-\\lambda_1 \\mathbf{1}-\\lambda_2 \\mu \\\\ \\frac{\\partial L}{\\partial \\lambda_1}=1-w^T \\mathbf{1} \\\\ \\frac{\\partial L}{\\partial \\lambda_2}=\\mu_p-w^T \\mu \\\\ 2 \\Sigma w-\\lambda_1 \\mathbf{1}-\\lambda_2 \\mu=0 \\\\ \\Sigma w=\\frac{\\lambda_1}{2} \\mathbf{1}+\\frac{\\lambda_2}{2} \\mu \\\\ w=\\frac{\\lambda_1}{2} \\Sigma^{-1} \\mathbf{1}+\\frac{\\lambda_2}{2} \\Sigma^{-1} \\mu\\end{gathered}$$"
   ]
  },
  {
   "cell_type": "markdown",
   "id": "6ca23f7a-1bca-4aaa-8db4-2937716901eb",
   "metadata": {},
   "source": [
    "$$R=[\\mu, \\mathbf{1}] \\quad $$\n",
    "$$P=\\left[\\begin{array}{c}\\mu_p \\\\ 1\\end{array}\\right] \\quad$$\n",
    "\n",
    "$$R^T \\Sigma^{-1} w=P$$\n",
    "\n",
    "$$R^T \\Sigma^{-1} w=\\left(R^T \\Sigma^{-1} R\\right)\\left[\\begin{array}{l}\\lambda_1 / 2 \\\\ \\lambda_2 / 2\\end{array}\\right]$$"
   ]
  },
  {
   "cell_type": "markdown",
   "id": "a590f829-cc23-4d33-94a8-0940a1751538",
   "metadata": {},
   "source": [
    "$$\n",
    "\\Sigma^{-1} R\n",
    "$$\n",
    ";.\n",
    "$$\n",
    "R^T \\Sigma^{-1} R\n",
    "$$\n",
    "$$\n",
    "\\begin{gathered}\n",
    "\\left(R^T \\Sigma^{-1} R\\right)^{-1} \\\\\n",
    "\\left(R^T \\Sigma^{-1} R\\right)^{-1} P\n",
    "\\end{gathered}\n",
    "$$\n",
    "$$\n",
    "w^*=\\Sigma^{-1} R\\left(R^T \\Sigma^{-1} R\\right)^{-1} P\n",
    "$$"
   ]
  },
  {
   "cell_type": "markdown",
   "id": "74fba8dc-d44c-4d7f-928b-4fb1f6f89bb2",
   "metadata": {},
   "source": [
    "## <font color='#85A8AC' size=5 face='Tahoma'>Step 2: Comprobación de Resultados Min Var y Max Sharpe (30%)</font>\n"
   ]
  },
  {
   "cell_type": "markdown",
   "id": "e4a35b8a-21d0-4910-b2e0-3a9d038d3358",
   "metadata": {},
   "source": [
    "+ <font size=4  face='Calibri Light'>Descarga el archivo de `data_act3.xlsx` que subí a CANVAS, el cual contiene el histórico de los precios de cierre ajustado para `NVDA` y `AMZN`. Calcula los rendimientos diarios, utilizando el cambio porcentual. A posteriori, calcula el rendimiento esperado y la matriz de covarianza-varianza de los rendimientos diarios. Durante el ejercicio asume una tasa libre de riesgo ($r_f$) del $5\\%$.\n",
    "\n",
    "\n",
    "+ <font size=4  face='Calibri Light'>Con la información obtenida, calcula los pesos eficientes en mínima varianza y máximo de sharpe con la solución analítica obtenida en clase:\n",
    "\n",
    "$$w_{min var} = \\frac{\\Sigma^{-1} \\overrightarrow{1}}{\\overrightarrow{1^T} \\Sigma^{-1} \\overrightarrow{1}}$$\n",
    "\n",
    "$$w_{max sharpe} = \\frac{\\Sigma^{-1} (\\mu - rf \\overrightarrow{1})}{\\overrightarrow{1^T} \\Sigma^{-1} (\\mu - rf \\overrightarrow{1})}$$\n",
    "\n"
   ]
  },
  {
   "cell_type": "code",
   "execution_count": 10,
   "id": "b5a930b7-dccb-4d96-9a94-3e331718dac3",
   "metadata": {},
   "outputs": [],
   "source": [
    "import numpy as np\n",
    "import pandas as pd\n",
    "from scipy.optimize import minimize\n",
    "import matplotlib.pyplot as plt"
   ]
  },
  {
   "cell_type": "code",
   "execution_count": 11,
   "id": "158da71f-3484-480f-a41a-633e0d1cb499",
   "metadata": {},
   "outputs": [],
   "source": [
    "# risk free rate, de anual a diaria\n",
    "rf = 0.05/252"
   ]
  },
  {
   "cell_type": "code",
   "execution_count": 12,
   "id": "36920dcc-a0a2-43ac-9323-afa57f4559d0",
   "metadata": {},
   "outputs": [
    {
     "data": {
      "text/html": [
       "<div>\n",
       "<style scoped>\n",
       "    .dataframe tbody tr th:only-of-type {\n",
       "        vertical-align: middle;\n",
       "    }\n",
       "\n",
       "    .dataframe tbody tr th {\n",
       "        vertical-align: top;\n",
       "    }\n",
       "\n",
       "    .dataframe thead th {\n",
       "        text-align: right;\n",
       "    }\n",
       "</style>\n",
       "<table border=\"1\" class=\"dataframe\">\n",
       "  <thead>\n",
       "    <tr style=\"text-align: right;\">\n",
       "      <th></th>\n",
       "      <th>NVIDIA</th>\n",
       "      <th>AMAZON</th>\n",
       "    </tr>\n",
       "  </thead>\n",
       "  <tbody>\n",
       "    <tr>\n",
       "      <th>1</th>\n",
       "      <td>-0.004556</td>\n",
       "      <td>-0.005564</td>\n",
       "    </tr>\n",
       "    <tr>\n",
       "      <th>2</th>\n",
       "      <td>-0.007267</td>\n",
       "      <td>0.009676</td>\n",
       "    </tr>\n",
       "    <tr>\n",
       "      <th>3</th>\n",
       "      <td>0.007918</td>\n",
       "      <td>0.004632</td>\n",
       "    </tr>\n",
       "    <tr>\n",
       "      <th>4</th>\n",
       "      <td>0.004978</td>\n",
       "      <td>-0.007954</td>\n",
       "    </tr>\n",
       "    <tr>\n",
       "      <th>5</th>\n",
       "      <td>0.008298</td>\n",
       "      <td>0.003201</td>\n",
       "    </tr>\n",
       "  </tbody>\n",
       "</table>\n",
       "</div>"
      ],
      "text/plain": [
       "     NVIDIA    AMAZON\n",
       "1 -0.004556 -0.005564\n",
       "2 -0.007267  0.009676\n",
       "3  0.007918  0.004632\n",
       "4  0.004978 -0.007954\n",
       "5  0.008298  0.003201"
      ]
     },
     "execution_count": 12,
     "metadata": {},
     "output_type": "execute_result"
    }
   ],
   "source": [
    "data = pd.read_excel('data_act3.xlsx')  \n",
    "returns = data[['NVIDIA', 'AMAZON']].pct_change()\n",
    "returns = returns.dropna()\n",
    "\n",
    "returns.head()"
   ]
  },
  {
   "cell_type": "code",
   "execution_count": 13,
   "id": "9782b60d-caad-46c5-8b2c-6bfac129aaa1",
   "metadata": {},
   "outputs": [
    {
     "data": {
      "text/plain": [
       "NVIDIA    0.002965\n",
       "AMAZON    0.000759\n",
       "dtype: float64"
      ]
     },
     "execution_count": 13,
     "metadata": {},
     "output_type": "execute_result"
    }
   ],
   "source": [
    "media = returns.mean()\n",
    "media"
   ]
  },
  {
   "cell_type": "code",
   "execution_count": 14,
   "id": "995d38fc-2030-4e5c-b451-fcc23a69be46",
   "metadata": {},
   "outputs": [
    {
     "data": {
      "text/html": [
       "<div>\n",
       "<style scoped>\n",
       "    .dataframe tbody tr th:only-of-type {\n",
       "        vertical-align: middle;\n",
       "    }\n",
       "\n",
       "    .dataframe tbody tr th {\n",
       "        vertical-align: top;\n",
       "    }\n",
       "\n",
       "    .dataframe thead th {\n",
       "        text-align: right;\n",
       "    }\n",
       "</style>\n",
       "<table border=\"1\" class=\"dataframe\">\n",
       "  <thead>\n",
       "    <tr style=\"text-align: right;\">\n",
       "      <th></th>\n",
       "      <th>NVIDIA</th>\n",
       "      <th>AMAZON</th>\n",
       "    </tr>\n",
       "  </thead>\n",
       "  <tbody>\n",
       "    <tr>\n",
       "      <th>NVIDIA</th>\n",
       "      <td>0.001011</td>\n",
       "      <td>0.000002</td>\n",
       "    </tr>\n",
       "    <tr>\n",
       "      <th>AMAZON</th>\n",
       "      <td>0.000002</td>\n",
       "      <td>0.000516</td>\n",
       "    </tr>\n",
       "  </tbody>\n",
       "</table>\n",
       "</div>"
      ],
      "text/plain": [
       "          NVIDIA    AMAZON\n",
       "NVIDIA  0.001011  0.000002\n",
       "AMAZON  0.000002  0.000516"
      ]
     },
     "execution_count": 14,
     "metadata": {},
     "output_type": "execute_result"
    }
   ],
   "source": [
    "matriz_covarianza = returns.cov()\n",
    "matriz_covarianza"
   ]
  },
  {
   "cell_type": "code",
   "execution_count": 15,
   "id": "ea715595-c099-44fe-a847-8659af9c5b07",
   "metadata": {},
   "outputs": [],
   "source": [
    "# Función para pesos de mínima varianza\n",
    "def pesos_minima_varianza(matriz_covarianza):\n",
    "    \"\"\"\n",
    "    Calcula los pesos de mínima varianza para un portafolio\n",
    "        - parámetro matriz_covarianza: Matriz de covarianza de los retornos de los activos\n",
    "        - regresa: vector de pesos de mínima varianza\n",
    "    \"\"\"\n",
    "    ones = np.ones(len(matriz_covarianza))\n",
    "    inv_cov = np.linalg.inv(matriz_covarianza)\n",
    "    denominador = np.dot(ones.T, np.dot(inv_cov, ones))\n",
    "    w_minvar = np.dot(inv_cov, ones) / denominador\n",
    "    return w_minvar\n",
    "\n",
    "\n",
    "# Función para pesos de máximo Sharpe\n",
    "def pesos_maximo_sharpe(media, matriz_covarianza, rf):\n",
    "    \"\"\"\n",
    "    Calcula los pesos de máximo ratio de Sharpe para un portafolio\n",
    "        - parámetro media: Vector de retornos esperados de los activos\n",
    "        - parámetro matriz_covarianza: Matriz de covarianza de los retornos de los activos\n",
    "        - parámetro rf: Tasa libre de riesgo\n",
    "        - parámetro matriz_covarianza: Matriz de covarianza de los retornos de los activos\n",
    "        - regresa: vector de pesos de máximo ratio de Sharpe\n",
    "    \"\"\"\n",
    "    ones = np.ones(len(matriz_covarianza))\n",
    "    inv_cov = np.linalg.inv(matriz_covarianza)\n",
    "    excess_returns = media - rf\n",
    "    denominador = np.dot(ones.T, np.dot(inv_cov, excess_returns))\n",
    "    w_maxsharpe = np.dot(inv_cov, excess_returns) / denominador\n",
    "    return w_maxsharpe\n",
    "\n"
   ]
  },
  {
   "cell_type": "code",
   "execution_count": 16,
   "id": "94fdae9a-e6db-46d1-9522-ccdb41f2c6a3",
   "metadata": {},
   "outputs": [],
   "source": [
    "resultado_minima_var = pesos_minima_varianza(matriz_covarianza)\n",
    "\n",
    "resultado_max_sharpe = pesos_maximo_sharpe(media, matriz_covarianza, rf)"
   ]
  },
  {
   "cell_type": "markdown",
   "id": "9931ab75-23b1-49d3-a9d1-4faa9fb79526",
   "metadata": {},
   "source": [
    "<font color='#85A8AC' size=3 face='Tahoma'>Resultado para los pesos usando Mínima Varianza</font>"
   ]
  },
  {
   "cell_type": "code",
   "execution_count": 18,
   "id": "ce40d473-1c0f-4024-a873-3f13559f8d9d",
   "metadata": {},
   "outputs": [
    {
     "name": "stdout",
     "output_type": "stream",
     "text": [
      "Pesos con Método Mínima Varianza:  [0.33738018 0.66261982]\n"
     ]
    }
   ],
   "source": [
    "print(\"Pesos con Método Mínima Varianza: \",resultado_minima_var)"
   ]
  },
  {
   "cell_type": "markdown",
   "id": "b8db0a1b-76f8-4b15-bae1-a634af0099a9",
   "metadata": {},
   "source": [
    "<font color='#85A8AC' size=3 face='Tahoma'>Resultado para los pesos usando Máximo Ratio Sharpe</font>"
   ]
  },
  {
   "cell_type": "code",
   "execution_count": 20,
   "id": "d4b758a6-2bfd-4897-b5c9-aacfd78c33ef",
   "metadata": {},
   "outputs": [
    {
     "name": "stdout",
     "output_type": "stream",
     "text": [
      "Pesos con Método Ratio Sharpe:  [0.71706322 0.28293678]\n"
     ]
    }
   ],
   "source": [
    "print(\"Pesos con Método Ratio Sharpe: \",resultado_max_sharpe)"
   ]
  },
  {
   "cell_type": "markdown",
   "id": "6a88da37-b5e1-4178-a985-31ebe35583e9",
   "metadata": {},
   "source": [
    "+ <font size=4  face='Calibri Light'>Programa dos funciones para optimizar el portafolio en mínima varianza y máximo de sharpe utilizando la librería de `scipy.optimize.minimize`, utiliza las funciones para encontrar los pesos eficientes para el portafolio dado, deberás obtener los mismos resultados que con la solución analítica.\n",
    "\n",
    "$\\hspace{0.5cm}$"
   ]
  },
  {
   "cell_type": "code",
   "execution_count": 22,
   "id": "6a51e3f1-ab4e-493f-a2ec-5dc15e5131f7",
   "metadata": {},
   "outputs": [],
   "source": [
    "# Función 1: varianza del portafolio\n",
    "def varianza_portafolio(pesos, matriz_covarianza):\n",
    "    \"\"\"\n",
    "    Calcula la varianza del portafolio dado un vector de pesos y una matriz de covarianza.\n",
    "    \"\"\"\n",
    "    return np.dot(pesos.T, np.dot(matriz_covarianza, pesos))\n",
    "\n",
    "# Función 2: ratio Sharpe\n",
    "def ratio_sharpe(pesos, media, matriz_covarianza, rf):\n",
    "    \"\"\"\n",
    "    Calcula el ratio de Sharpe para un portafolio dado un vector de pesos, \n",
    "    un vector de rendimientos esperados, una matriz de covarianza y la tasa libre de riesgo.\n",
    "    \"\"\"\n",
    "    rendimientos_portafolio = np.dot(pesos, media)\n",
    "    vol_portafolio = np.sqrt(np.dot(pesos.T, np.dot(matriz_covarianza, pesos)))\n",
    "    sharpe_ratio = (rf - rendimientos_portafolio) / vol_portafolio\n",
    "    return sharpe_ratio\n"
   ]
  },
  {
   "cell_type": "code",
   "execution_count": 46,
   "id": "5054c142-e78a-4a8f-a442-0a6127413d9c",
   "metadata": {},
   "outputs": [
    {
     "name": "stdout",
     "output_type": "stream",
     "text": [
      "[0.33738018 0.66261982]\n"
     ]
    }
   ],
   "source": [
    "# argumentos iniciales para minimizar\n",
    "limites = [(0, 1)] * len(matriz_covarianza) # entre 0 y 1\n",
    "restricciones = ({'type': 'eq', 'fun': lambda weights: np.sum(weights) - 1}) # restricciones\n",
    "\n",
    "pesos_i = np.random.dirichlet(np.ones(len(matriz_covarianza)), size=1)[0] # vector de pesos random para iniciar suma = 1\n",
    "\n",
    "result_minvar_n = minimize(varianza_portafolio, pesos_i, args=(matriz_covarianza), method='SLSQP', bounds=limites, constraints=restricciones)\n",
    "\n",
    "\n",
    "pesos_minima_var_n = result_minvar_n.x\n",
    "print(pesos_minima_var_n)\n"
   ]
  },
  {
   "cell_type": "code",
   "execution_count": 50,
   "id": "9bfeb0db-8810-4bdc-8491-086c330d6034",
   "metadata": {},
   "outputs": [
    {
     "name": "stdout",
     "output_type": "stream",
     "text": [
      "[0.71728175 0.28271825]\n"
     ]
    }
   ],
   "source": [
    "# Optimización de máximo Sharpe\n",
    "result_maxsharpe_n = minimize(ratio_sharpe, pesos_i, args=(media, matriz_covarianza, rf), method='SLSQP', bounds=limites, constraints=restricciones)\n",
    "\n",
    "print(result_maxsharpe_n.x)"
   ]
  },
  {
   "cell_type": "markdown",
   "id": "d8c92c88-955c-4e51-82b5-2542ce110697",
   "metadata": {},
   "source": [
    "<font size=4  face='Calibri Light'>Obtenemos mismos resultados"
   ]
  },
  {
   "cell_type": "code",
   "execution_count": 52,
   "id": "ac550e3a-b39b-4831-bd46-f756365e190e",
   "metadata": {},
   "outputs": [
    {
     "name": "stdout",
     "output_type": "stream",
     "text": [
      "Mínima varianza analítico:   [0.33738018 0.66261982]\n",
      "Mínima varianza numérico:   [0.33738018 0.66261982]\n",
      "Sharpe analítico:   [0.71706322 0.28293678]\n",
      "Sharpe numérico:   [0.71728175 0.28271825]\n"
     ]
    }
   ],
   "source": [
    "print(\"Mínima varianza analítico:  \", resultado_minima_var)\n",
    "print(\"Mínima varianza numérico:  \", pesos_minima_var_n)\n",
    "print(\"Sharpe analítico:  \", resultado_max_sharpe)\n",
    "print(\"Sharpe numérico:  \", result_maxsharpe_n.x)\n"
   ]
  },
  {
   "cell_type": "markdown",
   "id": "738ce963-8d1e-4932-bfda-0a3aecd64526",
   "metadata": {},
   "source": [
    "## <font color='#85A8AC' size=5 face='Tahoma'>Step 3: Gráfica de Frontera Eficiente en Media Varianza (40%)</font>\n"
   ]
  },
  {
   "cell_type": "markdown",
   "id": "435bb700-0da0-419d-aae1-8ab10b93440d",
   "metadata": {},
   "source": [
    "Con los dos puntos anteriores, gráfica la frontera eficiente analítica para el portafolio dado, la gráfica deberá contener los siguientes elementos:\n",
    "\n",
    "+ Hipérbole de Markowitz (*\"Markowitz Bullet\"*)  \n",
    "\n",
    "\n",
    "+ Coordenadas de los activos individuales según su volatilidad y rendimiento.\n",
    "\n",
    "\n",
    "+ Coordenadas de los portafolios eficientes en mínima varianza y máximo de sharpe\n",
    "\n",
    "\n",
    "+ Hipérbole de la Frontera Eficiente de Portafolios.\n",
    "  \n"
   ]
  },
  {
   "cell_type": "code",
   "execution_count": 90,
   "id": "f6c3c1f5-e2b0-4ae4-9753-04306125dbaa",
   "metadata": {},
   "outputs": [
    {
     "data": {
      "image/png": "[encoded data removed]",
      "text/plain": [
       "<Figure size 1000x700 with 1 Axes>"
      ]
     },
     "metadata": {},
     "output_type": "display_data"
    }
   ],
   "source": [
    "# Crear la gráfica mejorada\n",
    "plt.figure(figsize=(10, 7))\n",
    "\n",
    "# Graficar la frontera eficiente (parte superior en azul) y la ineficiente (parte inferior en gris discontinuo)\n",
    "plt.plot(all_portfolios[:, 1], all_portfolios[:, 0], label='Efficient Frontier', color='#88aaff', alpha=0.5)\n",
    "plt.plot(all_portfolios[:, 1][all_portfolios[:, 0] <= ret_minvar], \n",
    "         all_portfolios[:, 0][all_portfolios[:, 0] <= ret_minvar], color='#7D8A8C', alpha=0.7, linestyle='dashed', label='Markowitz')\n",
    "\n",
    "# Graficar los activos individuales\n",
    "plt.scatter(individual_volatilities, individual_returns, marker='s', color='#9452a5', label='Individual Assets', s=100)\n",
    "\n",
    "# Graficar los portafolios de mínima varianza y máximo Sharpe\n",
    "plt.scatter(vol_minvar, ret_minvar, marker='*', color='#78A7AD', s=150, label='Min Variance Portfolio')\n",
    "plt.scatter(vol_maxsharpe, ret_maxsharpe, marker='*', color='#8369D8', s=150, label='Max Sharpe Portfolio')\n",
    "\n",
    "plt.title('Efficient Frontier and Markowitz', fontsize=16)\n",
    "plt.xlabel(r'$\\sigma_p$ (Portfolio Risk)', fontsize=14)\n",
    "plt.ylabel(r'$\\mu_p$ (Portfolio Return)', fontsize=14)  # Corrected LaTeX symbol\n",
    "\n",
    "plt.xticks(fontsize=12)\n",
    "plt.yticks(fontsize=12)\n",
    "\n",
    "plt.legend(fontsize=12)\n",
    "plt.tight_layout()\n",
    "plt.grid(True)\n",
    "plt.show()"
   ]
  }
 ],
 "metadata": {
  "kernelspec": {
   "display_name": "Python 3 (ipykernel)",
   "language": "python",
   "name": "python3"
  },
  "language_info": {
   "codemirror_mode": {
    "name": "ipython",
    "version": 3
   },
   "file_extension": ".py",
   "mimetype": "text/x-python",
   "name": "python",
   "nbconvert_exporter": "python",
   "pygments_lexer": "ipython3",
   "version": "3.12.7"
  }
 },
 "nbformat": 4,
 "nbformat_minor": 5
}
